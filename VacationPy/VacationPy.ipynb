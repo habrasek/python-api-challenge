{
 "cells": [
  {
   "cell_type": "code",
   "execution_count": 1,
   "metadata": {},
   "outputs": [],
   "source": [
    "import matplotlib.pyplot as plt\n",
    "import pandas as pd\n",
    "import numpy as np\n",
    "import requests\n",
    "import gmaps\n",
    "import os\n",
    "\n",
    "from api_keys import google, openweather"
   ]
  },
  {
   "cell_type": "code",
   "execution_count": 8,
   "metadata": {},
   "outputs": [
    {
     "name": "stdout",
     "output_type": "stream",
     "text": [
      "Index(['Unnamed: 0', 'weather', 'base', 'visibility', 'dt', 'timezone', 'id',\n",
      "       'name', 'cod', 'coord.lon', 'coord.lat', 'main.temp', 'main.feels_like',\n",
      "       'main.temp_min', 'main.temp_max', 'main.pressure', 'main.humidity',\n",
      "       'main.sea_level', 'main.grnd_level', 'wind.speed', 'wind.deg',\n",
      "       'wind.gust', 'clouds.all', 'sys.country', 'sys.sunrise', 'sys.sunset',\n",
      "       'sys.type', 'sys.id', 'message', 'rain.1h', 'snow.1h'],\n",
      "      dtype='object')\n"
     ]
    }
   ],
   "source": [
    "file = 'weather.csv'\n",
    "df=pd.read_csv(file)\n",
    "\n",
    "print(df.columns)"
   ]
  },
  {
   "cell_type": "code",
   "execution_count": 6,
   "metadata": {},
   "outputs": [],
   "source": [
    "gmaps.configure(api_key=google)"
   ]
  },
  {
   "cell_type": "code",
   "execution_count": 9,
   "metadata": {},
   "outputs": [],
   "source": [
    "locations = df[[\"coord.lat\", \"coord.lon\"]].astype(float)\n",
    "\n",
    "humidity = df[\"main.humidity\"].astype(float)"
   ]
  },
  {
   "cell_type": "code",
   "execution_count": 15,
   "metadata": {},
   "outputs": [
    {
     "data": {
      "application/vnd.jupyter.widget-view+json": {
       "model_id": "abe8da8fe0c2418ca659a2906050daed",
       "version_major": 2,
       "version_minor": 0
      },
      "text/plain": [
       "Figure(layout=FigureLayout(height='420px'))"
      ]
     },
     "metadata": {},
     "output_type": "display_data"
    }
   ],
   "source": [
    "fig = gmaps.figure()\n",
    "\n",
    "\n",
    "heat_layer = gmaps.heatmap_layer(locations, weights=humidity, \n",
    "                                 dissipating=False, max_intensity=100,\n",
    "                                 point_radius = 4)\n",
    "\n",
    "fig.add_layer(heat_layer)\n",
    "\n",
    "fig"
   ]
  },
  {
   "cell_type": "code",
   "execution_count": 26,
   "metadata": {},
   "outputs": [
    {
     "data": {
      "text/html": [
       "<div>\n",
       "<style scoped>\n",
       "    .dataframe tbody tr th:only-of-type {\n",
       "        vertical-align: middle;\n",
       "    }\n",
       "\n",
       "    .dataframe tbody tr th {\n",
       "        vertical-align: top;\n",
       "    }\n",
       "\n",
       "    .dataframe thead th {\n",
       "        text-align: right;\n",
       "    }\n",
       "</style>\n",
       "<table border=\"1\" class=\"dataframe\">\n",
       "  <thead>\n",
       "    <tr style=\"text-align: right;\">\n",
       "      <th></th>\n",
       "      <th>Unnamed: 0</th>\n",
       "      <th>weather</th>\n",
       "      <th>base</th>\n",
       "      <th>visibility</th>\n",
       "      <th>dt</th>\n",
       "      <th>timezone</th>\n",
       "      <th>id</th>\n",
       "      <th>name</th>\n",
       "      <th>cod</th>\n",
       "      <th>coord.lon</th>\n",
       "      <th>...</th>\n",
       "      <th>wind.gust</th>\n",
       "      <th>clouds.all</th>\n",
       "      <th>sys.country</th>\n",
       "      <th>sys.sunrise</th>\n",
       "      <th>sys.sunset</th>\n",
       "      <th>sys.type</th>\n",
       "      <th>sys.id</th>\n",
       "      <th>message</th>\n",
       "      <th>rain.1h</th>\n",
       "      <th>snow.1h</th>\n",
       "    </tr>\n",
       "  </thead>\n",
       "  <tbody>\n",
       "    <tr>\n",
       "      <th>119</th>\n",
       "      <td>0</td>\n",
       "      <td>[{'id': 800, 'main': 'Clear', 'description': '...</td>\n",
       "      <td>stations</td>\n",
       "      <td>10000.0</td>\n",
       "      <td>1.620917e+09</td>\n",
       "      <td>28800.0</td>\n",
       "      <td>2062276.0</td>\n",
       "      <td>Roebourne</td>\n",
       "      <td>200</td>\n",
       "      <td>117.1333</td>\n",
       "      <td>...</td>\n",
       "      <td>2.77</td>\n",
       "      <td>0.0</td>\n",
       "      <td>AU</td>\n",
       "      <td>1.620859e+09</td>\n",
       "      <td>1.620899e+09</td>\n",
       "      <td>NaN</td>\n",
       "      <td>NaN</td>\n",
       "      <td>NaN</td>\n",
       "      <td>NaN</td>\n",
       "      <td>NaN</td>\n",
       "    </tr>\n",
       "    <tr>\n",
       "      <th>223</th>\n",
       "      <td>0</td>\n",
       "      <td>[{'id': 800, 'main': 'Clear', 'description': '...</td>\n",
       "      <td>stations</td>\n",
       "      <td>10000.0</td>\n",
       "      <td>1.620917e+09</td>\n",
       "      <td>28800.0</td>\n",
       "      <td>1720223.0</td>\n",
       "      <td>Callaguip</td>\n",
       "      <td>200</td>\n",
       "      <td>120.4867</td>\n",
       "      <td>...</td>\n",
       "      <td>3.06</td>\n",
       "      <td>4.0</td>\n",
       "      <td>PH</td>\n",
       "      <td>1.620855e+09</td>\n",
       "      <td>1.620901e+09</td>\n",
       "      <td>NaN</td>\n",
       "      <td>NaN</td>\n",
       "      <td>NaN</td>\n",
       "      <td>NaN</td>\n",
       "      <td>NaN</td>\n",
       "    </tr>\n",
       "    <tr>\n",
       "      <th>304</th>\n",
       "      <td>0</td>\n",
       "      <td>[{'id': 800, 'main': 'Clear', 'description': '...</td>\n",
       "      <td>stations</td>\n",
       "      <td>10000.0</td>\n",
       "      <td>1.620917e+09</td>\n",
       "      <td>7200.0</td>\n",
       "      <td>214389.0</td>\n",
       "      <td>Kaniama</td>\n",
       "      <td>200</td>\n",
       "      <td>24.1833</td>\n",
       "      <td>...</td>\n",
       "      <td>1.01</td>\n",
       "      <td>0.0</td>\n",
       "      <td>CD</td>\n",
       "      <td>1.620880e+09</td>\n",
       "      <td>1.620922e+09</td>\n",
       "      <td>NaN</td>\n",
       "      <td>NaN</td>\n",
       "      <td>NaN</td>\n",
       "      <td>NaN</td>\n",
       "      <td>NaN</td>\n",
       "    </tr>\n",
       "    <tr>\n",
       "      <th>446</th>\n",
       "      <td>0</td>\n",
       "      <td>[{'id': 800, 'main': 'Clear', 'description': '...</td>\n",
       "      <td>stations</td>\n",
       "      <td>10000.0</td>\n",
       "      <td>1.620917e+09</td>\n",
       "      <td>28800.0</td>\n",
       "      <td>6620339.0</td>\n",
       "      <td>Karratha</td>\n",
       "      <td>200</td>\n",
       "      <td>116.8463</td>\n",
       "      <td>...</td>\n",
       "      <td>2.55</td>\n",
       "      <td>0.0</td>\n",
       "      <td>AU</td>\n",
       "      <td>1.620859e+09</td>\n",
       "      <td>1.620899e+09</td>\n",
       "      <td>NaN</td>\n",
       "      <td>NaN</td>\n",
       "      <td>NaN</td>\n",
       "      <td>NaN</td>\n",
       "      <td>NaN</td>\n",
       "    </tr>\n",
       "  </tbody>\n",
       "</table>\n",
       "<p>4 rows × 31 columns</p>\n",
       "</div>"
      ],
      "text/plain": [
       "     Unnamed: 0                                            weather      base  \\\n",
       "119           0  [{'id': 800, 'main': 'Clear', 'description': '...  stations   \n",
       "223           0  [{'id': 800, 'main': 'Clear', 'description': '...  stations   \n",
       "304           0  [{'id': 800, 'main': 'Clear', 'description': '...  stations   \n",
       "446           0  [{'id': 800, 'main': 'Clear', 'description': '...  stations   \n",
       "\n",
       "     visibility            dt  timezone         id       name  cod  coord.lon  \\\n",
       "119     10000.0  1.620917e+09   28800.0  2062276.0  Roebourne  200   117.1333   \n",
       "223     10000.0  1.620917e+09   28800.0  1720223.0  Callaguip  200   120.4867   \n",
       "304     10000.0  1.620917e+09    7200.0   214389.0    Kaniama  200    24.1833   \n",
       "446     10000.0  1.620917e+09   28800.0  6620339.0   Karratha  200   116.8463   \n",
       "\n",
       "     ...  wind.gust  clouds.all  sys.country   sys.sunrise    sys.sunset  \\\n",
       "119  ...       2.77         0.0           AU  1.620859e+09  1.620899e+09   \n",
       "223  ...       3.06         4.0           PH  1.620855e+09  1.620901e+09   \n",
       "304  ...       1.01         0.0           CD  1.620880e+09  1.620922e+09   \n",
       "446  ...       2.55         0.0           AU  1.620859e+09  1.620899e+09   \n",
       "\n",
       "     sys.type  sys.id  message  rain.1h  snow.1h  \n",
       "119       NaN     NaN      NaN      NaN      NaN  \n",
       "223       NaN     NaN      NaN      NaN      NaN  \n",
       "304       NaN     NaN      NaN      NaN      NaN  \n",
       "446       NaN     NaN      NaN      NaN      NaN  \n",
       "\n",
       "[4 rows x 31 columns]"
      ]
     },
     "execution_count": 26,
     "metadata": {},
     "output_type": "execute_result"
    }
   ],
   "source": [
    "hotel_df = df.loc[(df[\"main.temp\"] <85), :]\n",
    "hotel_df = hotel_df.loc[(df[\"main.temp\"] >75), :]\n",
    "hotel_df= hotel_df.loc[(df[\"wind.speed\"] <10), :]\n",
    "hotel_df= hotel_df.loc[(df[\"wind.gust\"] <4), :]\n",
    "hotel_df= hotel_df.loc[(df[\"clouds.all\"] <5), :]\n",
    "hotel_df"
   ]
  },
  {
   "cell_type": "code",
   "execution_count": null,
   "metadata": {},
   "outputs": [],
   "source": []
  }
 ],
 "metadata": {
  "kernelspec": {
   "display_name": "Python 3",
   "language": "python",
   "name": "python3"
  },
  "language_info": {
   "codemirror_mode": {
    "name": "ipython",
    "version": 3
   },
   "file_extension": ".py",
   "mimetype": "text/x-python",
   "name": "python",
   "nbconvert_exporter": "python",
   "pygments_lexer": "ipython3",
   "version": "3.8.5"
  }
 },
 "nbformat": 4,
 "nbformat_minor": 4
}
