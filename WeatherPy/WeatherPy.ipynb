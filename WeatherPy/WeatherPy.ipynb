{
 "cells": [
  {
   "cell_type": "code",
   "execution_count": 33,
   "metadata": {},
   "outputs": [],
   "source": [
    "from citipy import citipy\n",
    "import random\n",
    "import requests\n",
    "import json\n",
    "from latsandlongs import lats, lngs\n",
    "from api_keys import openweather\n",
    "import matplotlib.pyplot as plt\n",
    "import pandas as pd\n",
    "from scipy.stats import linregress\n"
   ]
  },
  {
   "cell_type": "code",
   "execution_count": 34,
   "metadata": {},
   "outputs": [
    {
     "name": "stdout",
     "output_type": "stream",
     "text": [
      "1500\n",
      "1500\n"
     ]
    }
   ],
   "source": [
    "latitudes = []\n",
    "longitudes = []\n",
    "\n",
    "#I ran this once and saved the results to another file to keep the same results\n",
    "\n",
    "#for n in range(0, 500):\n",
    "#    latitudes.append(random.uniform(-90, 90))\n",
    "#    longitudes.append(random.uniform(-180, 180))\n",
    "print(len(lats))\n",
    "print(len(lngs))\n",
    "#print(latitudes)\n",
    "#print(longitudes)"
   ]
  },
  {
   "cell_type": "code",
   "execution_count": 35,
   "metadata": {},
   "outputs": [],
   "source": [
    "#print(latitudes)\n",
    "#print(longitudes)"
   ]
  },
  {
   "cell_type": "code",
   "execution_count": 36,
   "metadata": {},
   "outputs": [
    {
     "name": "stdout",
     "output_type": "stream",
     "text": [
      "1500\n",
      "[('upernavik', 'gl'), ('hobart', 'au'), ('mataura', 'pf'), ('tuktoyaktuk', 'ca'), ('yellowknife', 'ca'), ('vinh', 'vn'), ('pinsk', 'by'), ('jalu', 'ly'), ('arman', 'ru'), ('ponta do sol', 'cv'), ('butaritari', 'ki'), ('nikolskoye', 'ru'), ('mataura', 'pf'), ('atuona', 'pf'), ('faanui', 'pf'), ('gombong', 'id'), ('ushuaia', 'ar'), ('lebu', 'cl'), ('busselton', 'au'), ('yeppoon', 'au'), ('mataura', 'pf'), ('mataura', 'pf'), ('itoman', 'jp'), ('tiksi', 'ru'), ('sao joao da barra', 'br'), ('sassandra', 'ci'), ('obo', 'cf'), ('puerto ayora', 'ec'), ('ushuaia', 'ar'), ('port alfred', 'za'), ('carnarvon', 'au'), ('nyurba', 'ru'), ('ndele', 'cf'), ('georgetown', 'us'), ('carbonia', 'it'), ('vaini', 'to'), ('okha', 'ru'), ('arraial do cabo', 'br'), ('bengkulu', 'id'), ('lucapon', 'ph'), ('zharkovskiy', 'ru'), ('puerto ayora', 'ec'), ('turukhansk', 'ru'), ('shenzhen', 'cn'), ('mataura', 'pf'), ('itapirapua', 'br'), ('alta floresta', 'br'), ('san andres', 'co'), ('fukue', 'jp'), ('ushuaia', 'ar'), ('iqaluit', 'ca'), ('tuktoyaktuk', 'ca'), ('ijaki', 'ki'), ('bluff', 'nz'), ('yellowknife', 'ca'), ('ponta delgada', 'pt'), ('butaritari', 'ki'), ('yellowknife', 'ca'), ('gimli', 'ca'), ('ak-dovurak', 'ru'), ('souillac', 'mu'), ('cabo rojo', 'us'), ('asfi', 'ma'), ('astoria', 'us'), ('port elizabeth', 'za'), ('port alfred', 'za'), ('vaitupu', 'wf'), ('kodiak', 'us'), ('vaini', 'to'), ('panzos', 'gt'), ('namibe', 'ao'), ('vao', 'nc'), ('lebu', 'cl'), ('tuktoyaktuk', 'ca'), ('port macquarie', 'au'), ('rikitea', 'pf'), ('esperance', 'au'), ('santiago', 'ph'), ('tuktoyaktuk', 'ca'), ('albany', 'au'), ('thompson', 'ca'), ('aykhal', 'ru'), ('rikitea', 'pf'), ('cape town', 'za'), ('praya', 'id'), ('barrow', 'us'), ('nanortalik', 'gl'), ('hilo', 'us'), ('vila', 'vu'), ('bluff', 'nz'), ('nhulunbuy', 'au'), ('rikitea', 'pf'), ('beloha', 'mg'), ('cape town', 'za'), ('kodiak', 'us'), ('rawson', 'ar'), ('bluff', 'nz'), ('ushuaia', 'ar'), ('rikitea', 'pf'), ('makakilo city', 'us'), ('batemans bay', 'au'), ('tokmak', 'kg'), ('cidreira', 'br'), ('castro', 'cl'), ('sisimiut', 'gl'), ('castro', 'cl'), ('zhigansk', 'ru'), ('bluff', 'nz'), ('ruatoria', 'nz'), ('pisco', 'pe'), ('busselton', 'au'), ('bredasdorp', 'za'), ('roma', 'au'), ('victoria', 'sc'), ('samusu', 'ws'), ('ponta delgada', 'pt'), ('vestmannaeyjar', 'is'), ('punta arenas', 'cl'), ('simao', 'cn'), ('albany', 'au'), ('nizhneyansk', 'ru'), ('newport', 'us'), ('ushuaia', 'ar'), ('port elizabeth', 'za'), ('sterling', 'us'), ('los llanos de aridane', 'es'), ('savonlinna', 'fi'), ('grand river south east', 'mu'), ('kapaa', 'us'), ('meridian', 'us'), ('kitimat', 'ca'), ('vaitupu', 'wf'), ('tena', 'co'), ('komsomolskiy', 'ru'), ('ahipara', 'nz'), ('taltal', 'cl'), ('buritizeiro', 'br'), ('tashtagol', 'ru'), ('new norfolk', 'au'), ('bonavista', 'ca'), ('minab', 'ir'), ('illoqqortoormiut', 'gl'), ('ribeira grande', 'pt'), ('sitka', 'us'), ('saskylakh', 'ru'), ('amderma', 'ru'), ('ushuaia', 'ar'), ('new norfolk', 'au'), ('hermanus', 'za'), ('biltine', 'td'), ('seymchan', 'ru'), ('saint george', 'bm'), ('saint-philippe', 're'), ('dingle', 'ie'), ('atuona', 'pf'), ('tuktoyaktuk', 'ca'), ('carlsbad', 'us'), ('barentsburg', 'sj'), ('new norfolk', 'au'), ('bluff', 'nz'), ('hobart', 'au'), ('illoqqortoormiut', 'gl'), ('katsuura', 'jp'), ('new norfolk', 'au'), ('butaritari', 'ki'), ('kaeo', 'nz'), ('saskylakh', 'ru'), ('ribeira grande', 'pt'), ('luderitz', 'na'), ('kloulklubed', 'pw'), ('san cristobal', 'ec'), ('pochinok', 'ru'), ('hobart', 'au'), ('provideniya', 'ru'), ('clearlake', 'us'), ('vanimo', 'pg'), ('yellowknife', 'ca'), ('pacific grove', 'us'), ('roebourne', 'au'), ('cabedelo', 'br'), ('samusu', 'ws'), ('ondjiva', 'ao'), ('jamestown', 'sh'), ('conde', 'br'), ('saint-francois', 'gp'), ('taybad', 'ir'), ('georgetown', 'sh'), ('goderich', 'sl'), ('bengkulu', 'id'), ('kamphaeng phet', 'th'), ('geraldton', 'au'), ('atuona', 'pf'), ('geraldton', 'ca'), ('angoche', 'mz'), ('dali', 'cn'), ('busselton', 'au'), ('ushuaia', 'ar'), ('otradnoye', 'ru'), ('cherskiy', 'ru'), ('imeni babushkina', 'ru'), ('vaini', 'to'), ('attawapiskat', 'ca'), ('rikitea', 'pf'), ('puerto del rosario', 'es'), ('punta arenas', 'cl'), ('carnarvon', 'au'), ('karpuninskiy', 'ru'), ('boralday', 'kz'), ('bethel', 'us'), ('puerto colombia', 'co'), ('busselton', 'au'), ('rikitea', 'pf'), ('srandakan', 'id'), ('gorno-chuyskiy', 'ru'), ('chokurdakh', 'ru'), ('teguldet', 'ru'), ('namatanai', 'pg'), ('geraldton', 'au'), ('cape town', 'za'), ('bluff', 'nz'), ('jingdezhen', 'cn'), ('kapaa', 'us'), ('touros', 'br'), ('sentyabrskiy', 'ru'), ('dumai', 'id'), ('sao joao da barra', 'br'), ('luga', 'ru'), ('rikitea', 'pf'), ('provideniya', 'ru'), ('menomonie', 'us'), ('thompson', 'ca'), ('necochea', 'ar'), ('ushuaia', 'ar'), ('ushuaia', 'ar'), ('bluff', 'nz'), ('saskylakh', 'ru'), ('cabo san lucas', 'mx'), ('ushuaia', 'ar'), ('mareeba', 'au'), ('pinsk', 'by'), ('mogadishu', 'so'), ('rikitea', 'pf'), ('kununurra', 'au'), ('qaanaaq', 'gl'), ('thompson', 'ca'), ('talnakh', 'ru'), ('torbay', 'ca'), ('punta arenas', 'cl'), ('mahebourg', 'mu'), ('lebu', 'cl'), ('belushya guba', 'ru'), ('qaanaaq', 'gl'), ('kapaa', 'us'), ('salalah', 'om'), ('barrow', 'us'), ('carnarvon', 'au'), ('paducah', 'us'), ('bezenchuk', 'ru'), ('makakilo city', 'us'), ('rikitea', 'pf'), ('grand river south east', 'mu'), ('hualmay', 'pe'), ('gaspe', 'ca'), ('saint george', 'bm'), ('rosarito', 'mx'), ('sovetsk', 'ru'), ('bluff', 'nz'), ('new norfolk', 'au'), ('carauari', 'br'), ('vaini', 'to'), ('atuona', 'pf'), ('pevek', 'ru'), ('umba', 'ru'), ('rikitea', 'pf'), ('hobart', 'au'), ('saint-joseph', 're'), ('katsuura', 'jp'), ('nizhneyansk', 'ru'), ('attawapiskat', 'ca'), ('port alfred', 'za'), ('tuktoyaktuk', 'ca'), ('punta arenas', 'cl'), ('bosaso', 'so'), ('katsuura', 'jp'), ('kapaa', 'us'), ('longyearbyen', 'sj'), ('gagnoa', 'ci'), ('lompoc', 'us'), ('jamestown', 'sh'), ('hobart', 'au'), ('mataura', 'pf'), ('katsuura', 'jp'), ('narsaq', 'gl'), ('lykhivka', 'ua'), ('bredasdorp', 'za'), ('punta arenas', 'cl'), ('qaanaaq', 'gl'), ('ancud', 'cl'), ('zhengjiatun', 'cn'), ('clyde', 'nz'), ('tura', 'ru'), ('fujin', 'cn'), ('hobart', 'au'), ('gorom-gorom', 'bf'), ('waddan', 'ly'), ('cabo san lucas', 'mx'), ('ushuaia', 'ar'), ('new norfolk', 'au'), ('port elizabeth', 'za'), ('baihar', 'in'), ('belushya guba', 'ru'), ('sibiti', 'cg'), ('fortuna', 'us'), ('saint anthony', 'ca'), ('barsovo', 'ru'), ('atuona', 'pf'), ('batagay-alyta', 'ru'), ('gravdal', 'no'), ('yuxia', 'cn'), ('wyndham', 'nz'), ('ahmadpur sial', 'pk'), ('bluff', 'nz'), ('rikitea', 'pf'), ('kupino', 'ru'), ('sentyabrskiy', 'ru'), ('cidreira', 'br'), ('cherepovets', 'ru'), ('hervey bay', 'au'), ('belushya guba', 'ru'), ('narsaq', 'gl'), ('preobrazhenskaya', 'ru'), ('touros', 'br'), ('kitale', 'ke'), ('belushya guba', 'ru'), ('port alfred', 'za'), ('port alfred', 'za'), ('sisimiut', 'gl'), ('avarua', 'ck'), ('barrow', 'us'), ('trairi', 'br'), ('lafayette', 'us'), ('victoria', 'sc'), ('anton lizardo', 'mx'), ('cape town', 'za'), ('bredasdorp', 'za'), ('ushuaia', 'ar'), ('shchuchye', 'ru'), ('guerrero negro', 'mx'), ('norman wells', 'ca'), ('jamestown', 'sh'), ('mataura', 'pf'), ('tiksi', 'ru'), ('tazmalt', 'dz'), ('marcona', 'pe'), ('aklavik', 'ca'), ('ushuaia', 'ar'), ('mudgee', 'au'), ('ushuaia', 'ar'), ('gat', 'ly'), ('mataura', 'pf'), ('bathsheba', 'bb'), ('tuktoyaktuk', 'ca'), ('cape town', 'za'), ('asyut', 'eg'), ('barrow', 'us'), ('mattru', 'sl'), ('maningrida', 'au'), ('mys shmidta', 'ru'), ('cape town', 'za'), ('castro', 'cl'), ('busselton', 'au'), ('khatanga', 'ru'), ('ust-nera', 'ru'), ('adre', 'td'), ('la palma', 'pa'), ('cape town', 'za'), ('taoudenni', 'ml'), ('ust-kamchatsk', 'ru'), ('baruun-urt', 'mn'), ('ushuaia', 'ar'), ('kuche', 'cn'), ('vaini', 'to'), ('mahebourg', 'mu'), ('chokurdakh', 'ru'), ('boyolangu', 'id'), ('kenai', 'us'), ('valparaiso', 'cl'), ('hermanus', 'za'), ('faanui', 'pf'), ('katsuura', 'jp'), ('russell', 'nz'), ('makakilo city', 'us'), ('flinders', 'au'), ('mataura', 'pf'), ('tamandare', 'br'), ('whitehorse', 'ca'), ('hilo', 'us'), ('rikitea', 'pf'), ('kapaa', 'us'), ('hermanus', 'za'), ('pemagatsel', 'bt'), ('mataura', 'pf'), ('albany', 'au'), ('pacifica', 'us'), ('atuona', 'pf'), ('sug-aksy', 'ru'), ('jamestown', 'sh'), ('taolanaro', 'mg'), ('ushuaia', 'ar'), ('torbay', 'ca'), ('lorengau', 'pg'), ('illoqqortoormiut', 'gl'), ('ushuaia', 'ar'), ('callaguip', 'ph'), ('iqaluit', 'ca'), ('dandong', 'cn'), ('san cristobal', 'ec'), ('lebu', 'cl'), ('kapaa', 'us'), ('new norfolk', 'au'), ('yumen', 'cn'), ('galeana', 'mx'), ('vaini', 'to'), ('punta arenas', 'cl'), ('margate', 'za'), ('rikitea', 'pf'), ('krasnyy luch', 'ru'), ('bay roberts', 'ca'), ('sandwick', 'gb'), ('hami', 'cn'), ('vaini', 'to'), ('san benito', 'us'), ('biak', 'id'), ('rikitea', 'pf'), ('atuona', 'pf'), ('illoqqortoormiut', 'gl'), ('hambantota', 'lk'), ('marcona', 'pe'), ('garowe', 'so'), ('rabo de peixe', 'pt'), ('matara', 'lk'), ('umiray', 'ph'), ('rikitea', 'pf'), ('barentsburg', 'sj'), ('sabang', 'id'), ('vilyuysk', 'ru'), ('salalah', 'om'), ('chuy', 'uy'), ('port elizabeth', 'za'), ('ahipara', 'nz'), ('nisia floresta', 'br'), ('mataura', 'pf'), ('ola', 'ru'), ('hilo', 'us'), ('tasiilaq', 'gl'), ('margate', 'za'), ('punta arenas', 'cl'), ('berezovka', 'ru'), ('hilo', 'us'), ('nizhneyansk', 'ru'), ('maan', 'ph'), ('pisco', 'pe'), ('lebu', 'cl'), ('half moon bay', 'us'), ('punta arenas', 'cl'), ('saint-augustin', 'ca'), ('belushya guba', 'ru'), ('husavik', 'is'), ('marawi', 'sd'), ('arandis', 'na'), ('new norfolk', 'au'), ('butaritari', 'ki'), ('bethel', 'us'), ('winslow', 'us'), ('vaini', 'to'), ('arraial do cabo', 'br'), ('busselton', 'au'), ('hithadhoo', 'mv'), ('east london', 'za'), ('tucuman', 'ar'), ('nemuro', 'jp'), ('taolanaro', 'mg'), ('nhulunbuy', 'au'), ('vilkija', 'lt'), ('bredasdorp', 'za'), ('okhotsk', 'ru'), ('yulara', 'au'), ('butaritari', 'ki'), ('alofi', 'nu'), ('gold coast', 'au'), ('sitka', 'us'), ('naze', 'jp'), ('kondinskoye', 'ru'), ('illoqqortoormiut', 'gl'), ('comodoro rivadavia', 'ar'), ('constitucion', 'mx'), ('ushuaia', 'ar'), ('bambous virieux', 'mu'), ('cape town', 'za'), ('allapalli', 'in'), ('albany', 'au'), ('kulhudhuffushi', 'mv'), ('illoqqortoormiut', 'gl'), ('new norfolk', 'au'), ('coquimbo', 'cl'), ('samarai', 'pg'), ('cape town', 'za'), ('puerto ayora', 'ec'), ('xichang', 'cn'), ('lata', 'sb'), ('savannah bight', 'hn'), ('cabedelo', 'br'), ('caravelas', 'br'), ('rikitea', 'pf'), ('yellowknife', 'ca'), ('necochea', 'ar'), ('yining', 'cn'), ('chernyshevskiy', 'ru'), ('carutapera', 'br'), ('vaini', 'to'), ('hambantota', 'lk'), ('phan thiet', 'vn'), ('hasaki', 'jp'), ('abaza', 'ru'), ('agdam', 'az'), ('port alfred', 'za'), ('bonaventure', 'ca'), ('kaka', 'tm'), ('mataura', 'pf'), ('isangel', 'vu'), ('kapaa', 'us'), ('rikitea', 'pf'), ('mar del plata', 'ar'), ('tres marias', 'mx'), ('tuktoyaktuk', 'ca'), ('quesnel', 'ca'), ('lolua', 'tv'), ('bluff', 'nz'), ('zachagansk', 'kz'), ('saint-philippe', 're'), ('namibe', 'ao'), ('bargal', 'so'), ('saskylakh', 'ru'), ('chapais', 'ca'), ('petropavlovsk-kamchatskiy', 'ru'), ('avarua', 'ck'), ('mataura', 'pf'), ('kapaa', 'us'), ('hermanus', 'za'), ('dikson', 'ru'), ('norman wells', 'ca'), ('laela', 'tz'), ('hasaki', 'jp'), ('fairbanks', 'us'), ('socorro', 'us'), ('castro', 'cl'), ('yumen', 'cn'), ('rikitea', 'pf'), ('coahuayana', 'mx'), ('hilo', 'us'), ('ushuaia', 'ar'), ('mahebourg', 'mu'), ('busselton', 'au'), ('karauzyak', 'uz'), ('castro', 'cl'), ('nanakuli', 'us'), ('daru', 'pg'), ('esna', 'eg'), ('illoqqortoormiut', 'gl'), ('lebu', 'cl'), ('rawson', 'ar'), ('hermanus', 'za'), ('tasiilaq', 'gl'), ('antofagasta', 'cl'), ('punta arenas', 'cl'), ('yellowknife', 'ca'), ('new norfolk', 'au'), ('hailun', 'cn'), ('ushuaia', 'ar'), ('hermanus', 'za'), ('palotina', 'br'), ('alofi', 'nu'), ('east london', 'za'), ('cherskiy', 'ru'), ('busselton', 'au'), ('gorno-chuyskiy', 'ru'), ('saint anthony', 'ca'), ('dikson', 'ru'), ('bucerias', 'mx'), ('punta arenas', 'cl'), ('punta arenas', 'cl'), ('tuktoyaktuk', 'ca'), ('sinaloa', 'mx'), ('barrow', 'us'), ('balkanabat', 'tm'), ('hobart', 'au'), ('rikitea', 'pf'), ('kaoma', 'zm'), ('kaniama', 'cd'), ('tasiilaq', 'gl'), ('gravdal', 'no'), ('aklavik', 'ca'), ('raudeberg', 'no'), ('coquimbo', 'cl'), ('matara', 'lk'), ('norman wells', 'ca'), ('talnakh', 'ru'), ('bredasdorp', 'za'), ('rikitea', 'pf'), ('busselton', 'au'), ('dogondoutchi', 'ne'), ('gizo', 'sb'), ('richard toll', 'sn'), ('natal', 'br'), ('puerto ayora', 'ec'), ('punta arenas', 'cl'), ('butaritari', 'ki'), ('rikitea', 'pf'), ('hermanus', 'za'), ('bafoulabe', 'ml'), ('hirara', 'jp'), ('cherskiy', 'ru'), ('tiksi', 'ru'), ('dikson', 'ru'), ('barrow', 'us'), ('ushuaia', 'ar'), ('chuy', 'uy'), ('vanimo', 'pg'), ('vila franca do campo', 'pt'), ('nizhneyansk', 'ru'), ('lamu', 'ke'), ('jamestown', 'sh'), ('charters towers', 'au'), ('airai', 'pw'), ('jati', 'id'), ('hermanus', 'za'), ('albany', 'au'), ('mataura', 'pf'), ('new norfolk', 'au'), ('medea', 'dz'), ('daru', 'pg'), ('galiwinku', 'au'), ('jamestown', 'sh'), ('leander', 'us'), ('qaanaaq', 'gl'), ('arraial do cabo', 'br'), ('mataura', 'pf'), ('rikitea', 'pf'), ('mahebourg', 'mu'), ('tazovskiy', 'ru'), ('atuona', 'pf'), ('faanui', 'pf'), ('illoqqortoormiut', 'gl'), ('ushuaia', 'ar'), ('slavgorod', 'ru'), ('mataura', 'pf'), ('sorvag', 'fo'), ('mount isa', 'au'), ('rikitea', 'pf'), ('saint-philippe', 're'), ('jamestown', 'sh'), ('hermanus', 'za'), ('albany', 'au'), ('kapaa', 'us'), ('asau', 'tv'), ('tougan', 'bf'), ('baykit', 'ru'), ('georgetown', 'sh'), ('balakovo', 'ru'), ('ustye', 'ru'), ('henties bay', 'na'), ('guerrero negro', 'mx'), ('posse', 'br'), ('codrington', 'ag'), ('olafsvik', 'is'), ('barrow', 'us'), ('albany', 'au'), ('rikitea', 'pf'), ('kalmunai', 'lk'), ('saleaula', 'ws'), ('hermanus', 'za'), ('rabo de peixe', 'pt'), ('longyearbyen', 'sj'), ('illoqqortoormiut', 'gl'), ('saint george', 'bm'), ('atuona', 'pf'), ('madanapalle', 'in'), ('sioux lookout', 'ca'), ('dikson', 'ru'), ('bagdarin', 'ru'), ('ushuaia', 'ar'), ('yatou', 'cn'), ('longyearbyen', 'sj'), ('rikitea', 'pf'), ('kathmandu', 'np'), ('chuy', 'uy'), ('tuktoyaktuk', 'ca'), ('belushya guba', 'ru'), ('bargal', 'so'), ('ponta do sol', 'cv'), ('kikwit', 'cd'), ('sur', 'om'), ('palmares do sul', 'br'), ('castro', 'cl'), ('bredasdorp', 'za'), ('jumla', 'np'), ('tarko-sale', 'ru'), ('gamba', 'ga'), ('taolanaro', 'mg'), ('sentyabrskiy', 'ru'), ('rikitea', 'pf'), ('butaritari', 'ki'), ('albany', 'au'), ('vestmannaeyjar', 'is'), ('pacifica', 'us'), ('port alfred', 'za'), ('saint-philippe', 're'), ('yongan', 'cn'), ('kalmunai', 'lk'), ('qaanaaq', 'gl'), ('vila velha', 'br'), ('khandbari', 'np'), ('karamea', 'nz'), ('omachi', 'jp'), ('leningradskiy', 'ru'), ('himora', 'et'), ('tabiauea', 'ki'), ('east london', 'za'), ('butaritari', 'ki'), ('fortuna', 'us'), ('sivaganga', 'in'), ('faanui', 'pf'), ('ushuaia', 'ar'), ('punta arenas', 'cl'), ('valkeakoski', 'fi'), ('carnarvon', 'au'), ('cape town', 'za'), ('mataura', 'pf'), ('cidreira', 'br'), ('illoqqortoormiut', 'gl'), ('port alfred', 'za'), ('barrow', 'us'), ('montrose', 'us'), ('vaini', 'to'), ('cayenne', 'gf'), ('barrow', 'us'), ('severo-kurilsk', 'ru'), ('saint-francois', 'gp'), ('bluff', 'nz'), ('hobart', 'au'), ('hilo', 'us'), ('ushuaia', 'ar'), ('luanda', 'ao'), ('kahului', 'us'), ('yellowknife', 'ca'), ('bluff', 'nz'), ('vaini', 'to'), ('illoqqortoormiut', 'gl'), ('broome', 'au'), ('toliary', 'mg'), ('rikitea', 'pf'), ('sao joao da barra', 'br'), ('lompoc', 'us'), ('hithadhoo', 'mv'), ('hambantota', 'lk'), ('punta arenas', 'cl'), ('muisne', 'ec'), ('halifax', 'ca'), ('hobart', 'au'), ('barentsburg', 'sj'), ('carnarvon', 'au'), ('puerto ayora', 'ec'), ('lompoc', 'us'), ('ushuaia', 'ar'), ('bredasdorp', 'za'), ('ushuaia', 'ar'), ('kavaratti', 'in'), ('cherskiy', 'ru'), ('jamestown', 'sh'), ('belmonte', 'br'), ('cape town', 'za'), ('pierre', 'us'), ('hobart', 'au'), ('puerto ayora', 'ec'), ('albany', 'au'), ('avera', 'pf'), ('kapaa', 'us'), ('mataura', 'pf'), ('qaanaaq', 'gl'), ('khor', 'qa'), ('rikitea', 'pf'), ('xichang', 'cn'), ('lincoln', 'us'), ('bluff', 'nz'), ('santa marinella', 'it'), ('bethel', 'us'), ('tasiilaq', 'gl'), ('ixtapa', 'mx'), ('bluff', 'nz'), ('jishou', 'cn'), ('sakakah', 'sa'), ('ahuimanu', 'us'), ('castro', 'cl'), ('manaus', 'br'), ('port alfred', 'za'), ('rikitea', 'pf'), ('ilulissat', 'gl'), ('punta arenas', 'cl'), ('talnakh', 'ru'), ('puerto ayora', 'ec'), ('cape town', 'za'), ('arman', 'ru'), ('busselton', 'au'), ('isangel', 'vu'), ('seda', 'lv'), ('rikitea', 'pf'), ('illoqqortoormiut', 'gl'), ('bima', 'id'), ('port alfred', 'za'), ('puerto ayora', 'ec'), ('laukaa', 'fi'), ('burica', 'pa'), ('nanortalik', 'gl'), ('avarua', 'ck'), ('victoria', 'sc'), ('mbini', 'gq'), ('kapaa', 'us'), ('khatanga', 'ru'), ('punta arenas', 'cl'), ('saint george', 'bm'), ('thenzawl', 'in'), ('te anau', 'nz'), ('kruisfontein', 'za'), ('dingle', 'ie'), ('cabo san lucas', 'mx'), ('avarua', 'ck'), ('hermanus', 'za'), ('severo-kurilsk', 'ru'), ('vestmanna', 'fo'), ('luderitz', 'na'), ('pasighat', 'in'), ('faanui', 'pf'), ('hermanus', 'za'), ('hithadhoo', 'mv'), ('puerto ayora', 'ec'), ('taolanaro', 'mg'), ('vaini', 'to'), ('mataura', 'pf'), ('saint-philippe', 're'), ('rikitea', 'pf'), ('albany', 'au'), ('port alfred', 'za'), ('tasiilaq', 'gl'), ('lulea', 'se'), ('alotau', 'pg'), ('tarauaca', 'br'), ('carnarvon', 'au'), ('bossangoa', 'cf'), ('rikitea', 'pf'), ('sidi ali', 'dz'), ('buraydah', 'sa'), ('padang', 'id'), ('hasaki', 'jp'), ('kodiak', 'us'), ('belushya guba', 'ru'), ('provideniya', 'ru'), ('labuhan', 'id'), ('lebu', 'cl'), ('aku', 'ng'), ('illoqqortoormiut', 'gl'), ('batouri', 'cm'), ('lasa', 'cn'), ('port elizabeth', 'za'), ('beyneu', 'kz'), ('lebu', 'cl'), ('saskylakh', 'ru'), ('kavaratti', 'in'), ('rikitea', 'pf'), ('milkovo', 'ru'), ('cadiz', 'es'), ('punta arenas', 'cl'), ('qaanaaq', 'gl'), ('taolanaro', 'mg'), ('yuzhno-yeniseyskiy', 'ru'), ('jamestown', 'sh'), ('kodiak', 'us'), ('nikolskoye', 'ru'), ('rikitea', 'pf'), ('barrow', 'us'), ('qasigiannguit', 'gl'), ('lolua', 'tv'), ('avarua', 'ck'), ('juwana', 'id'), ('tuggurt', 'dz'), ('kaitangata', 'nz'), ('mahebourg', 'mu'), ('kahului', 'us'), ('arraial do cabo', 'br'), ('codrington', 'ag'), ('katsuura', 'jp'), ('yellowknife', 'ca'), ('ushuaia', 'ar'), ('butaritari', 'ki'), ('nabire', 'id'), ('harper', 'lr'), ('hermanus', 'za'), ('punta arenas', 'cl'), ('grand river south east', 'mu'), ('mar del plata', 'ar'), ('berlevag', 'no'), ('asino', 'ru'), ('sao filipe', 'cv'), ('ambanja', 'mg'), ('rikitea', 'pf'), ('codrington', 'ag'), ('madang', 'pg'), ('east london', 'za'), ('chegdomyn', 'ru'), ('souillac', 'mu'), ('altay', 'cn'), ('vaini', 'to'), ('punta arenas', 'cl'), ('saskylakh', 'ru'), ('carnarvon', 'au'), ('punta arenas', 'cl'), ('taolanaro', 'mg'), ('barentsburg', 'sj'), ('hobart', 'au'), ('dingle', 'ie'), ('illoqqortoormiut', 'gl'), ('jamestown', 'sh'), ('shumikha', 'ru'), ('olafsvik', 'is'), ('bloemfontein', 'za'), ('avarua', 'ck'), ('hilo', 'us'), ('nyazepetrovsk', 'ru'), ('ushuaia', 'ar'), ('karauzyak', 'uz'), ('mecca', 'sa'), ('jamestown', 'sh'), ('eyl', 'so'), ('zeya', 'ru'), ('upernavik', 'gl'), ('rikitea', 'pf'), ('itarema', 'br'), ('kentau', 'kz'), ('caravelas', 'br'), ('nikolskoye', 'ru'), ('rikitea', 'pf'), ('yar-sale', 'ru'), ('vaini', 'to'), ('nikolskoye', 'ru'), ('bethel', 'us'), ('butaritari', 'ki'), ('pisco', 'pe'), ('umba', 'ru'), ('kapaa', 'us'), ('bredasdorp', 'za'), ('tobol', 'kz'), ('esperance', 'au'), ('albany', 'au'), ('albany', 'au'), ('puerto ayora', 'ec'), ('ocampo', 'mx'), ('punta arenas', 'cl'), ('kajaani', 'fi'), ('fairbanks', 'us'), ('mar del plata', 'ar'), ('mount isa', 'au'), ('lazaro cardenas', 'mx'), ('bambous virieux', 'mu'), ('castro', 'cl'), ('puerto ayora', 'ec'), ('norman wells', 'ca'), ('taolanaro', 'mg'), ('rikitea', 'pf'), ('hermanus', 'za'), ('avarua', 'ck'), ('mataura', 'pf'), ('dongzhen', 'cn'), ('brigantine', 'us'), ('lakselv', 'no'), ('lebu', 'cl'), ('thompson', 'ca'), ('dingle', 'ie'), ('san pedro', 'bz'), ('ushuaia', 'ar'), ('katsuura', 'jp'), ('ushuaia', 'ar'), ('krasnoselkup', 'ru'), ('punta arenas', 'cl'), ('cape town', 'za'), ('krasnovishersk', 'ru'), ('atuona', 'pf'), ('cape town', 'za'), ('karlstad', 'se'), ('chihuahua', 'mx'), ('novikovo', 'ru'), ('busselton', 'au'), ('zhigansk', 'ru'), ('portland', 'au'), ('puerto ayora', 'ec'), ('mar del plata', 'ar'), ('zheleznodorozhnyy', 'ru'), ('butaritari', 'ki'), ('longyearbyen', 'sj'), ('el faiyum', 'eg'), ('hermanus', 'za'), ('san quintin', 'mx'), ('rikitea', 'pf'), ('grindavik', 'is'), ('portmore', 'jm'), ('kodiak', 'us'), ('ushuaia', 'ar'), ('rikitea', 'pf'), ('geraldton', 'au'), ('victoria', 'sc'), ('liberal', 'us'), ('nome', 'us'), ('atuona', 'pf'), ('hithadhoo', 'mv'), ('barrow', 'us'), ('pringsewu', 'id'), ('cabo san lucas', 'mx'), ('gurupi', 'br'), ('nikolskoye', 'ru'), ('camocim', 'br'), ('banda aceh', 'id'), ('puerto ayora', 'ec'), ('kapaa', 'us'), ('saleaula', 'ws'), ('kapaa', 'us'), ('jamestown', 'sh'), ('wanning', 'cn'), ('georgetown', 'sh'), ('yellowknife', 'ca'), ('kodiak', 'us'), ('nizhneyansk', 'ru'), ('mitsamiouli', 'km'), ('flinders', 'au'), ('gondanglegi', 'id'), ('mataura', 'pf'), ('aloleng', 'ph'), ('waddan', 'ly'), ('broken hill', 'au'), ('pella', 'us'), ('punta arenas', 'cl'), ('kavieng', 'pg'), ('itoman', 'jp'), ('clyde river', 'ca'), ('ushuaia', 'ar'), ('hobart', 'au'), ('yunyang', 'cn'), ('port elizabeth', 'za'), ('olafsvik', 'is'), ('mar del plata', 'ar'), ('maralal', 'ke'), ('san quintin', 'mx'), ('hermanus', 'za'), ('taolanaro', 'mg'), ('turka', 'ru'), ('nikolskoye', 'ru'), ('barcelos', 'br'), ('sibolga', 'id'), ('busselton', 'au'), ('butaritari', 'ki'), ('punta arenas', 'cl'), ('taburi', 'ph'), ('dikson', 'ru'), ('bogorodskoye', 'ru'), ('ushuaia', 'ar'), ('east london', 'za'), ('luderitz', 'na'), ('alta floresta', 'br'), ('atuona', 'pf'), ('new norfolk', 'au'), ('new norfolk', 'au'), ('halifax', 'ca'), ('coquimbo', 'cl'), ('taolanaro', 'mg'), ('port alfred', 'za'), ('thohoyandou', 'za'), ('warqla', 'dz'), ('albany', 'au'), ('karratha', 'au'), ('codrington', 'ag'), ('viedma', 'ar'), ('hilo', 'us'), ('opuwo', 'na'), ('palanga', 'lt'), ('kyakhta', 'ru'), ('dillon', 'us'), ('mataura', 'pf'), ('inhambane', 'mz'), ('sentyabrskiy', 'ru'), ('andros town', 'bs'), ('thompson', 'ca'), ('upernavik', 'gl'), ('canutama', 'br'), ('ushuaia', 'ar'), ('busselton', 'au'), ('mataura', 'pf'), ('samalaeulu', 'ws'), ('saint-philippe', 're'), ('mahebourg', 'mu'), ('srednekolymsk', 'ru'), ('severo-kurilsk', 'ru'), ('carnarvon', 'au'), ('galveston', 'us'), ('georgetown', 'sh'), ('taolanaro', 'mg'), ('puerto ayora', 'ec'), ('marcona', 'pe'), ('port alfred', 'za'), ('mataura', 'pf'), ('ponta do sol', 'cv'), ('gaspe', 'ca'), ('ushuaia', 'ar'), ('barrow', 'us'), ('golden', 'ca'), ('moron', 'mn'), ('chokurdakh', 'ru'), ('mayo', 'ca'), ('lompoc', 'us'), ('upernavik', 'gl'), ('rikitea', 'pf'), ('waitati', 'nz'), ('yellowknife', 'ca'), ('uglovka', 'ru'), ('dzhebariki-khaya', 'ru'), ('codrington', 'ag'), ('port hawkesbury', 'ca'), ('ponta do sol', 'cv'), ('laguna', 'br'), ('katsuura', 'jp'), ('jamestown', 'sh'), ('kuche', 'cn'), ('rikitea', 'pf'), ('atuona', 'pf'), ('tuscaloosa', 'us'), ('torbay', 'ca'), ('manggar', 'id'), ('bethel', 'us'), ('sorland', 'no'), ('ushuaia', 'ar'), ('port alfred', 'za'), ('khatanga', 'ru'), ('saldanha', 'za'), ('punta arenas', 'cl'), ('camana', 'pe'), ('ahipara', 'nz'), ('horn lake', 'us'), ('mataura', 'pf'), ('busselton', 'au'), ('biaora', 'in'), ('la ronge', 'ca'), ('upernavik', 'gl'), ('meyungs', 'pw'), ('tura', 'ru'), ('yellowknife', 'ca'), ('ushuaia', 'ar'), ('mataura', 'pf'), ('teeli', 'ru'), ('ushuaia', 'ar'), ('sidi ali', 'dz'), ('hualmay', 'pe'), ('kapaa', 'us'), ('teeli', 'ru'), ('chicama', 'pe'), ('mataura', 'pf'), ('qaanaaq', 'gl'), ('kielce', 'pl'), ('litoral del san juan', 'co'), ('vrangel', 'ru'), ('hobart', 'au'), ('albany', 'au'), ('taolanaro', 'mg'), ('ushuaia', 'ar'), ('stokmarknes', 'no'), ('hami', 'cn'), ('mataura', 'pf'), ('busselton', 'au'), ('jamestown', 'sh'), ('cape town', 'za'), ('longlac', 'ca'), ('hasaki', 'jp'), ('ushuaia', 'ar'), ('marcona', 'pe'), ('rikitea', 'pf'), ('castro', 'cl'), ('vaitape', 'pf'), ('tezu', 'in'), ('nikolskoye', 'ru'), ('college', 'us'), ('rikitea', 'pf'), ('dikson', 'ru'), ('sao filipe', 'cv'), ('tunceli', 'tr'), ('provideniya', 'ru'), ('longyearbyen', 'sj'), ('port hardy', 'ca'), ('kodinsk', 'ru'), ('holly hill', 'us'), ('provideniya', 'ru'), ('atuona', 'pf'), ('saldanha', 'za'), ('gizo', 'sb'), ('busselton', 'au'), ('taolanaro', 'mg'), ('ilulissat', 'gl'), ('ushuaia', 'ar'), ('mar del plata', 'ar'), ('chokurdakh', 'ru'), ('bredasdorp', 'za'), ('jamestown', 'sh'), ('plettenberg bay', 'za'), ('rikitea', 'pf'), ('new norfolk', 'au'), ('ushuaia', 'ar'), ('ushuaia', 'ar'), ('taolanaro', 'mg'), ('rikitea', 'pf'), ('albany', 'au'), ('georgetown', 'sh'), ('punta arenas', 'cl'), ('butaritari', 'ki'), ('hermanus', 'za'), ('bengkulu', 'id'), ('cape town', 'za'), ('esperance', 'au'), ('taolanaro', 'mg'), ('punta arenas', 'cl'), ('saldanha', 'za'), ('aykhal', 'ru'), ('kasempa', 'zm'), ('hilo', 'us'), ('alekseyevsk', 'ru'), ('hobart', 'au'), ('vila velha', 'br'), ('fort frances', 'ca'), ('bluff', 'nz'), ('sao filipe', 'cv'), ('ushuaia', 'ar'), ('sorland', 'no'), ('albany', 'au'), ('pali', 'in'), ('sentyabrskiy', 'ru'), ('ajdabiya', 'ly'), ('taolanaro', 'mg'), ('east london', 'za'), ('el wasta', 'eg'), ('busselton', 'au'), ('mys shmidta', 'ru'), ('attawapiskat', 'ca'), ('tasiilaq', 'gl'), ('taybad', 'ir'), ('upernavik', 'gl'), ('tadpatri', 'in'), ('olafsvik', 'is'), ('hobart', 'au'), ('phangnga', 'th'), ('new norfolk', 'au'), ('vagay', 'ru'), ('ushuaia', 'ar'), ('dzhusaly', 'kz'), ('kargil', 'in'), ('hithadhoo', 'mv'), ('alofi', 'nu'), ('hilo', 'us'), ('longyearbyen', 'sj'), ('mataura', 'pf'), ('thompson', 'ca'), ('shieli', 'kz'), ('inuvik', 'ca'), ('gunjur', 'gm'), ('hermanus', 'za'), ('khatanga', 'ru'), ('rikitea', 'pf'), ('merauke', 'id'), ('cherskiy', 'ru'), ('mataura', 'pf'), ('tandur', 'in'), ('necochea', 'ar'), ('ushuaia', 'ar'), ('arraial do cabo', 'br'), ('bethel', 'us'), ('ushuaia', 'ar'), ('te anau', 'nz'), ('byumba', 'rw'), ('calama', 'cl'), ('chuy', 'uy'), ('nyurba', 'ru'), ('hilo', 'us'), ('port alfred', 'za'), ('port keats', 'au'), ('albany', 'au'), ('qaanaaq', 'gl'), ('petropavlovsk-kamchatskiy', 'ru'), ('pevek', 'ru'), ('rikitea', 'pf'), ('carutapera', 'br'), ('byron bay', 'au'), ('garissa', 'ke'), ('taolanaro', 'mg'), ('henties bay', 'na'), ('yellowknife', 'ca'), ('mataura', 'pf'), ('port blair', 'in'), ('nahrin', 'af'), ('sao joao da barra', 'br'), ('marzuq', 'ly'), ('akdepe', 'tm'), ('barra de sao francisco', 'br'), ('mataura', 'pf'), ('mudyuga', 'ru'), ('new norfolk', 'au'), ('mys shmidta', 'ru'), ('ngunguru', 'nz'), ('torbay', 'ca'), ('haibowan', 'cn'), ('carnarvon', 'au'), ('hasaki', 'jp'), ('qaanaaq', 'gl'), ('rikitea', 'pf'), ('labuhan', 'id'), ('fort nelson', 'ca'), ('saleaula', 'ws'), ('longyearbyen', 'sj'), ('hervey bay', 'au'), ('thompson', 'ca'), ('nanortalik', 'gl'), ('albany', 'au'), ('larap', 'ph'), ('georgetown', 'sh'), ('thompson', 'ca'), ('saint-philippe', 're'), ('provideniya', 'ru'), ('cabo san lucas', 'mx'), ('lafiagi', 'ng'), ('clyde river', 'ca'), ('suicheng', 'cn'), ('arraial do cabo', 'br'), ('bambous virieux', 'mu'), ('hofn', 'is'), ('punta arenas', 'cl'), ('vaitupu', 'wf'), ('indianola', 'us'), ('hualmay', 'pe'), ('mataura', 'pf'), ('bluff', 'nz'), ('watertown', 'us'), ('atuona', 'pf'), ('bandarbeyla', 'so'), ('dikson', 'ru'), ('illoqqortoormiut', 'gl'), ('port alfred', 'za'), ('mrirt', 'ma'), ('chokurdakh', 'ru'), ('ushuaia', 'ar'), ('bengkulu', 'id'), ('clyde river', 'ca'), ('kirakira', 'sb'), ('rio bananal', 'br'), ('qaanaaq', 'gl'), ('papara', 'pf'), ('cape town', 'za'), ('beyneu', 'kz'), ('meridian', 'us'), ('palauig', 'ph'), ('puerto ayora', 'ec'), ('netanya', 'il'), ('ilulissat', 'gl'), ('griffith', 'au'), ('punta arenas', 'cl'), ('kazalinsk', 'kz'), ('dingle', 'ie'), ('paracuru', 'br'), ('atuona', 'pf'), ('whitehorse', 'ca'), ('thompson', 'ca'), ('bengkulu', 'id'), ('port alfred', 'za'), ('benesov nad ploucnici', 'cz'), ('tagusao', 'ph'), ('cidreira', 'br'), ('ushuaia', 'ar'), ('bellevue', 'us'), ('punta arenas', 'cl'), ('geraldton', 'au'), ('porto novo', 'cv'), ('chitipa', 'mw'), ('punta arenas', 'cl'), ('cabedelo', 'br'), ('dargaville', 'nz'), ('ngukurr', 'au'), ('gidam', 'in'), ('ushuaia', 'ar'), ('korla', 'cn'), ('hualmay', 'pe'), ('izhma', 'ru'), ('ushuaia', 'ar'), ('busselton', 'au'), ('eydhafushi', 'mv'), ('saraland', 'us'), ('faanui', 'pf'), ('pisco', 'pe'), ('jishou', 'cn'), ('leningradskiy', 'ru'), ('albany', 'au'), ('chumphon', 'th'), ('itoman', 'jp'), ('muros', 'es'), ('rikitea', 'pf'), ('richards bay', 'za'), ('qaanaaq', 'gl'), ('lebu', 'cl'), ('poronaysk', 'ru'), ('carnarvon', 'au'), ('ha tinh', 'vn'), ('sale', 'au'), ('punta arenas', 'cl'), ('praia da vitoria', 'pt'), ('shimoda', 'jp'), ('vagur', 'fo'), ('rikitea', 'pf'), ('leningradskiy', 'ru'), ('nikolskoye', 'ru'), ('vanderhoof', 'ca'), ('tombouctou', 'ml'), ('staromaryevka', 'ru'), ('safaga', 'eg'), ('launceston', 'au'), ('loukhi', 'ru'), ('tevriz', 'ru'), ('albany', 'au'), ('taolanaro', 'mg'), ('puerto ayora', 'ec'), ('paamiut', 'gl'), ('flin flon', 'ca'), ('mataura', 'pf'), ('tabas', 'ir'), ('bredasdorp', 'za'), ('general pico', 'ar'), ('villablino', 'es'), ('henties bay', 'na'), ('fortuna', 'us'), ('mogadishu', 'so'), ('kiunga', 'pg'), ('rikitea', 'pf'), ('airai', 'pw'), ('fort saint john', 'ca'), ('labytnangi', 'ru'), ('mahon', 'es'), ('rikitea', 'pf'), ('burhar', 'in'), ('jamestown', 'sh'), ('new norfolk', 'au'), ('port elizabeth', 'za'), ('avarua', 'ck'), ('lebu', 'cl'), ('grand gaube', 'mu'), ('ulladulla', 'au'), ('bredasdorp', 'za'), ('kamaishi', 'jp'), ('pahrump', 'us'), ('attawapiskat', 'ca'), ('qaanaaq', 'gl'), ('bluff', 'nz'), ('yulara', 'au'), ('rikitea', 'pf'), ('nikolskoye', 'ru'), ('bredasdorp', 'za'), ('adrar', 'dz'), ('hithadhoo', 'mv'), ('poltavka', 'ru'), ('san cristobal', 'ec'), ('dingle', 'ie'), ('iqaluit', 'ca'), ('punta arenas', 'cl'), ('corinto', 'ni'), ('cape town', 'za'), ('hermanus', 'za'), ('saint-philippe', 're'), ('tiksi', 'ru'), ('albany', 'au'), ('totness', 'sr'), ('gladstone', 'au'), ('bubaque', 'gw'), ('west fargo', 'us'), ('bubaque', 'gw'), ('butaritari', 'ki'), ('kapaa', 'us'), ('east london', 'za'), ('punta arenas', 'cl'), ('duayaw nkwanta', 'gh'), ('port hedland', 'au'), ('hermanus', 'za'), ('butaritari', 'ki'), ('floriano', 'br')]\n"
     ]
    }
   ],
   "source": [
    "city_list = []\n",
    "for x, y in zip(lats, lngs):\n",
    "    city = citipy.nearest_city(x, y)\n",
    "    country = city.country_code\n",
    "    city = city.city_name\n",
    "    tup = (city, country)\n",
    "    city_list.append(tup)\n",
    "    \n",
    "    \n",
    "    \n",
    "print(len(city_list))\n",
    "\n",
    "print(city_list) "
   ]
  },
  {
   "cell_type": "code",
   "execution_count": 37,
   "metadata": {},
   "outputs": [
    {
     "data": {
      "text/plain": [
       "643"
      ]
     },
     "execution_count": 37,
     "metadata": {},
     "output_type": "execute_result"
    }
   ],
   "source": [
    "unique_count = 0\n",
    "check = []\n",
    "for n in city_list:\n",
    "    if n not in check:\n",
    "        check.append(n)\n",
    "        unique_count+= 1\n",
    "unique_count"
   ]
  },
  {
   "cell_type": "code",
   "execution_count": 38,
   "metadata": {},
   "outputs": [
    {
     "name": "stdout",
     "output_type": "stream",
     "text": [
      "mataura\n",
      "pf\n",
      "http://api.openweathermap.org/data/2.5/weather?q=mataura,pf&appid=b8955f7da2194da93b48f9c32e6ade74&units=imperial\n"
     ]
    },
    {
     "data": {
      "text/plain": [
       "{'cod': '404', 'message': 'city not found'}"
      ]
     },
     "execution_count": 38,
     "metadata": {},
     "output_type": "execute_result"
    }
   ],
   "source": [
    "#url = \"http://api.openweathermap.org/data/2.5/weather?\"\n",
    "#city = \"London\"\n",
    "city_name = city_list[2][0]\n",
    "country_code = city_list[2][1]\n",
    "\n",
    "print(city_name)\n",
    "print(country_code)\n",
    "\n",
    "# Build query URL\n",
    "#query_url = url + \"appid=\" + api_key + \"&q=\" + city\n",
    "\n",
    "url = f\"http://api.openweathermap.org/data/2.5/weather?q={city_name},{country_code}&appid={openweather}&units=imperial\"\n",
    "\n",
    "#url =\"api.openweathermap.org/data/2.5/weather?q=London,uk&APPID=b8955f7da2194da93b48f9c32e6ade74\"\n",
    "\n",
    "print(url)\n",
    "\n",
    "weather_response = requests.get(url)\n",
    "weather_json = weather_response.json()\n",
    "\n",
    "weather_json"
   ]
  },
  {
   "cell_type": "code",
   "execution_count": 39,
   "metadata": {},
   "outputs": [
    {
     "data": {
      "text/html": [
       "<div>\n",
       "<style scoped>\n",
       "    .dataframe tbody tr th:only-of-type {\n",
       "        vertical-align: middle;\n",
       "    }\n",
       "\n",
       "    .dataframe tbody tr th {\n",
       "        vertical-align: top;\n",
       "    }\n",
       "\n",
       "    .dataframe thead th {\n",
       "        text-align: right;\n",
       "    }\n",
       "</style>\n",
       "<table border=\"1\" class=\"dataframe\">\n",
       "  <thead>\n",
       "    <tr style=\"text-align: right;\">\n",
       "      <th></th>\n",
       "      <th>cod</th>\n",
       "      <th>message</th>\n",
       "    </tr>\n",
       "  </thead>\n",
       "  <tbody>\n",
       "    <tr>\n",
       "      <th>0</th>\n",
       "      <td>404</td>\n",
       "      <td>city not found</td>\n",
       "    </tr>\n",
       "  </tbody>\n",
       "</table>\n",
       "</div>"
      ],
      "text/plain": [
       "   cod         message\n",
       "0  404  city not found"
      ]
     },
     "execution_count": 39,
     "metadata": {},
     "output_type": "execute_result"
    }
   ],
   "source": [
    "pd.json_normalize(weather_json)"
   ]
  },
  {
   "cell_type": "code",
   "execution_count": 40,
   "metadata": {},
   "outputs": [],
   "source": [
    "#KeyError\n",
    "#print(weather_json['main']['temp'])\n",
    "#weather_json['coord']['lat']"
   ]
  },
  {
   "cell_type": "code",
   "execution_count": 41,
   "metadata": {},
   "outputs": [],
   "source": [
    "df_list = []\n",
    "\n",
    "for c in check:\n",
    "    city_name = c[0]\n",
    "    country_code = c[1]\n",
    "    url = f\"http://api.openweathermap.org/data/2.5/weather?q={city_name},{country_code}&appid={openweather}&units=imperial\"\n",
    "    weather_response = requests.get(url)\n",
    "    weather_json = weather_response.json()\n",
    "\n",
    "    df = pd.json_normalize(weather_json)\n",
    "    df_list.append(df)\n",
    "    \n",
    "#    try:\n",
    "#        plot_lats.append(weather_json['coord']['lat'])\n",
    "#    except KeyError:\n",
    "#        pass\n",
    "    \n",
    "#    try:\n",
    "#        plot_temps.append(weather_json['main']['temp'])\n",
    "#    except KeyError:\n",
    "#        pass  "
   ]
  },
  {
   "cell_type": "code",
   "execution_count": 46,
   "metadata": {},
   "outputs": [
    {
     "data": {
      "text/html": [
       "<div>\n",
       "<style scoped>\n",
       "    .dataframe tbody tr th:only-of-type {\n",
       "        vertical-align: middle;\n",
       "    }\n",
       "\n",
       "    .dataframe tbody tr th {\n",
       "        vertical-align: top;\n",
       "    }\n",
       "\n",
       "    .dataframe thead th {\n",
       "        text-align: right;\n",
       "    }\n",
       "</style>\n",
       "<table border=\"1\" class=\"dataframe\">\n",
       "  <thead>\n",
       "    <tr style=\"text-align: right;\">\n",
       "      <th></th>\n",
       "      <th>weather</th>\n",
       "      <th>base</th>\n",
       "      <th>visibility</th>\n",
       "      <th>dt</th>\n",
       "      <th>timezone</th>\n",
       "      <th>id</th>\n",
       "      <th>name</th>\n",
       "      <th>cod</th>\n",
       "      <th>coord.lon</th>\n",
       "      <th>coord.lat</th>\n",
       "      <th>...</th>\n",
       "      <th>wind.gust</th>\n",
       "      <th>clouds.all</th>\n",
       "      <th>sys.country</th>\n",
       "      <th>sys.sunrise</th>\n",
       "      <th>sys.sunset</th>\n",
       "      <th>sys.type</th>\n",
       "      <th>sys.id</th>\n",
       "      <th>message</th>\n",
       "      <th>rain.1h</th>\n",
       "      <th>snow.1h</th>\n",
       "    </tr>\n",
       "  </thead>\n",
       "  <tbody>\n",
       "    <tr>\n",
       "      <th>0</th>\n",
       "      <td>[{'id': 804, 'main': 'Clouds', 'description': ...</td>\n",
       "      <td>stations</td>\n",
       "      <td>10000.0</td>\n",
       "      <td>1.620917e+09</td>\n",
       "      <td>-7200.0</td>\n",
       "      <td>3418910.0</td>\n",
       "      <td>Upernavik</td>\n",
       "      <td>200</td>\n",
       "      <td>-56.1549</td>\n",
       "      <td>72.7868</td>\n",
       "      <td>...</td>\n",
       "      <td>5.30</td>\n",
       "      <td>100.0</td>\n",
       "      <td>GL</td>\n",
       "      <td>0.000000e+00</td>\n",
       "      <td>0.000000e+00</td>\n",
       "      <td>NaN</td>\n",
       "      <td>NaN</td>\n",
       "      <td>NaN</td>\n",
       "      <td>NaN</td>\n",
       "      <td>NaN</td>\n",
       "    </tr>\n",
       "    <tr>\n",
       "      <th>0</th>\n",
       "      <td>[{'id': 801, 'main': 'Clouds', 'description': ...</td>\n",
       "      <td>stations</td>\n",
       "      <td>10000.0</td>\n",
       "      <td>1.620917e+09</td>\n",
       "      <td>36000.0</td>\n",
       "      <td>2163355.0</td>\n",
       "      <td>Hobart</td>\n",
       "      <td>200</td>\n",
       "      <td>147.3294</td>\n",
       "      <td>-42.8794</td>\n",
       "      <td>...</td>\n",
       "      <td>5.99</td>\n",
       "      <td>13.0</td>\n",
       "      <td>AU</td>\n",
       "      <td>1.620940e+09</td>\n",
       "      <td>1.620976e+09</td>\n",
       "      <td>2.0</td>\n",
       "      <td>2002195.0</td>\n",
       "      <td>NaN</td>\n",
       "      <td>NaN</td>\n",
       "      <td>NaN</td>\n",
       "    </tr>\n",
       "    <tr>\n",
       "      <th>0</th>\n",
       "      <td>[{'id': 801, 'main': 'Clouds', 'description': ...</td>\n",
       "      <td>stations</td>\n",
       "      <td>10000.0</td>\n",
       "      <td>1.620917e+09</td>\n",
       "      <td>-21600.0</td>\n",
       "      <td>6170031.0</td>\n",
       "      <td>Tuktoyaktuk</td>\n",
       "      <td>200</td>\n",
       "      <td>-133.0374</td>\n",
       "      <td>69.4541</td>\n",
       "      <td>...</td>\n",
       "      <td>NaN</td>\n",
       "      <td>20.0</td>\n",
       "      <td>CA</td>\n",
       "      <td>1.620901e+09</td>\n",
       "      <td>1.620977e+09</td>\n",
       "      <td>1.0</td>\n",
       "      <td>942.0</td>\n",
       "      <td>NaN</td>\n",
       "      <td>NaN</td>\n",
       "      <td>NaN</td>\n",
       "    </tr>\n",
       "    <tr>\n",
       "      <th>0</th>\n",
       "      <td>[{'id': 803, 'main': 'Clouds', 'description': ...</td>\n",
       "      <td>stations</td>\n",
       "      <td>10000.0</td>\n",
       "      <td>1.620917e+09</td>\n",
       "      <td>-21600.0</td>\n",
       "      <td>6185377.0</td>\n",
       "      <td>Yellowknife</td>\n",
       "      <td>200</td>\n",
       "      <td>-114.3525</td>\n",
       "      <td>62.4560</td>\n",
       "      <td>...</td>\n",
       "      <td>8.99</td>\n",
       "      <td>75.0</td>\n",
       "      <td>CA</td>\n",
       "      <td>1.620903e+09</td>\n",
       "      <td>1.620966e+09</td>\n",
       "      <td>2.0</td>\n",
       "      <td>19346.0</td>\n",
       "      <td>NaN</td>\n",
       "      <td>NaN</td>\n",
       "      <td>NaN</td>\n",
       "    </tr>\n",
       "    <tr>\n",
       "      <th>0</th>\n",
       "      <td>[{'id': 804, 'main': 'Clouds', 'description': ...</td>\n",
       "      <td>stations</td>\n",
       "      <td>10000.0</td>\n",
       "      <td>1.620917e+09</td>\n",
       "      <td>25200.0</td>\n",
       "      <td>1562798.0</td>\n",
       "      <td>Vinh</td>\n",
       "      <td>200</td>\n",
       "      <td>105.6667</td>\n",
       "      <td>18.6667</td>\n",
       "      <td>...</td>\n",
       "      <td>7.99</td>\n",
       "      <td>88.0</td>\n",
       "      <td>VN</td>\n",
       "      <td>1.620858e+09</td>\n",
       "      <td>1.620905e+09</td>\n",
       "      <td>NaN</td>\n",
       "      <td>NaN</td>\n",
       "      <td>NaN</td>\n",
       "      <td>NaN</td>\n",
       "      <td>NaN</td>\n",
       "    </tr>\n",
       "    <tr>\n",
       "      <th>...</th>\n",
       "      <td>...</td>\n",
       "      <td>...</td>\n",
       "      <td>...</td>\n",
       "      <td>...</td>\n",
       "      <td>...</td>\n",
       "      <td>...</td>\n",
       "      <td>...</td>\n",
       "      <td>...</td>\n",
       "      <td>...</td>\n",
       "      <td>...</td>\n",
       "      <td>...</td>\n",
       "      <td>...</td>\n",
       "      <td>...</td>\n",
       "      <td>...</td>\n",
       "      <td>...</td>\n",
       "      <td>...</td>\n",
       "      <td>...</td>\n",
       "      <td>...</td>\n",
       "      <td>...</td>\n",
       "      <td>...</td>\n",
       "      <td>...</td>\n",
       "    </tr>\n",
       "    <tr>\n",
       "      <th>0</th>\n",
       "      <td>[{'id': 803, 'main': 'Clouds', 'description': ...</td>\n",
       "      <td>stations</td>\n",
       "      <td>10000.0</td>\n",
       "      <td>1.620917e+09</td>\n",
       "      <td>0.0</td>\n",
       "      <td>2374583.0</td>\n",
       "      <td>Bubaque</td>\n",
       "      <td>200</td>\n",
       "      <td>-15.8333</td>\n",
       "      <td>11.2833</td>\n",
       "      <td>...</td>\n",
       "      <td>6.93</td>\n",
       "      <td>78.0</td>\n",
       "      <td>GW</td>\n",
       "      <td>1.620888e+09</td>\n",
       "      <td>1.620934e+09</td>\n",
       "      <td>NaN</td>\n",
       "      <td>NaN</td>\n",
       "      <td>NaN</td>\n",
       "      <td>NaN</td>\n",
       "      <td>NaN</td>\n",
       "    </tr>\n",
       "    <tr>\n",
       "      <th>0</th>\n",
       "      <td>[{'id': 800, 'main': 'Clear', 'description': '...</td>\n",
       "      <td>stations</td>\n",
       "      <td>10000.0</td>\n",
       "      <td>1.620917e+09</td>\n",
       "      <td>-18000.0</td>\n",
       "      <td>5062458.0</td>\n",
       "      <td>West Fargo</td>\n",
       "      <td>200</td>\n",
       "      <td>-96.9004</td>\n",
       "      <td>46.8750</td>\n",
       "      <td>...</td>\n",
       "      <td>10.00</td>\n",
       "      <td>1.0</td>\n",
       "      <td>US</td>\n",
       "      <td>1.620903e+09</td>\n",
       "      <td>1.620957e+09</td>\n",
       "      <td>2.0</td>\n",
       "      <td>2011828.0</td>\n",
       "      <td>NaN</td>\n",
       "      <td>NaN</td>\n",
       "      <td>NaN</td>\n",
       "    </tr>\n",
       "    <tr>\n",
       "      <th>0</th>\n",
       "      <td>[{'id': 804, 'main': 'Clouds', 'description': ...</td>\n",
       "      <td>stations</td>\n",
       "      <td>10000.0</td>\n",
       "      <td>1.620917e+09</td>\n",
       "      <td>0.0</td>\n",
       "      <td>2301464.0</td>\n",
       "      <td>Duayaw-Nkwanta</td>\n",
       "      <td>200</td>\n",
       "      <td>-2.1028</td>\n",
       "      <td>7.1724</td>\n",
       "      <td>...</td>\n",
       "      <td>2.86</td>\n",
       "      <td>100.0</td>\n",
       "      <td>GH</td>\n",
       "      <td>1.620885e+09</td>\n",
       "      <td>1.620930e+09</td>\n",
       "      <td>NaN</td>\n",
       "      <td>NaN</td>\n",
       "      <td>NaN</td>\n",
       "      <td>NaN</td>\n",
       "      <td>NaN</td>\n",
       "    </tr>\n",
       "    <tr>\n",
       "      <th>0</th>\n",
       "      <td>[{'id': 800, 'main': 'Clear', 'description': '...</td>\n",
       "      <td>stations</td>\n",
       "      <td>10000.0</td>\n",
       "      <td>1.620917e+09</td>\n",
       "      <td>28800.0</td>\n",
       "      <td>2063042.0</td>\n",
       "      <td>Port Hedland</td>\n",
       "      <td>200</td>\n",
       "      <td>118.5667</td>\n",
       "      <td>-20.3167</td>\n",
       "      <td>...</td>\n",
       "      <td>NaN</td>\n",
       "      <td>5.0</td>\n",
       "      <td>AU</td>\n",
       "      <td>1.620858e+09</td>\n",
       "      <td>1.620899e+09</td>\n",
       "      <td>1.0</td>\n",
       "      <td>9585.0</td>\n",
       "      <td>NaN</td>\n",
       "      <td>NaN</td>\n",
       "      <td>NaN</td>\n",
       "    </tr>\n",
       "    <tr>\n",
       "      <th>0</th>\n",
       "      <td>[{'id': 802, 'main': 'Clouds', 'description': ...</td>\n",
       "      <td>stations</td>\n",
       "      <td>10000.0</td>\n",
       "      <td>1.620917e+09</td>\n",
       "      <td>-10800.0</td>\n",
       "      <td>3399506.0</td>\n",
       "      <td>Floriano</td>\n",
       "      <td>200</td>\n",
       "      <td>-43.0225</td>\n",
       "      <td>-6.7669</td>\n",
       "      <td>...</td>\n",
       "      <td>10.56</td>\n",
       "      <td>43.0</td>\n",
       "      <td>BR</td>\n",
       "      <td>1.620896e+09</td>\n",
       "      <td>1.620939e+09</td>\n",
       "      <td>NaN</td>\n",
       "      <td>NaN</td>\n",
       "      <td>NaN</td>\n",
       "      <td>NaN</td>\n",
       "      <td>NaN</td>\n",
       "    </tr>\n",
       "  </tbody>\n",
       "</table>\n",
       "<p>573 rows × 30 columns</p>\n",
       "</div>"
      ],
      "text/plain": [
       "                                              weather      base  visibility  \\\n",
       "0   [{'id': 804, 'main': 'Clouds', 'description': ...  stations     10000.0   \n",
       "0   [{'id': 801, 'main': 'Clouds', 'description': ...  stations     10000.0   \n",
       "0   [{'id': 801, 'main': 'Clouds', 'description': ...  stations     10000.0   \n",
       "0   [{'id': 803, 'main': 'Clouds', 'description': ...  stations     10000.0   \n",
       "0   [{'id': 804, 'main': 'Clouds', 'description': ...  stations     10000.0   \n",
       "..                                                ...       ...         ...   \n",
       "0   [{'id': 803, 'main': 'Clouds', 'description': ...  stations     10000.0   \n",
       "0   [{'id': 800, 'main': 'Clear', 'description': '...  stations     10000.0   \n",
       "0   [{'id': 804, 'main': 'Clouds', 'description': ...  stations     10000.0   \n",
       "0   [{'id': 800, 'main': 'Clear', 'description': '...  stations     10000.0   \n",
       "0   [{'id': 802, 'main': 'Clouds', 'description': ...  stations     10000.0   \n",
       "\n",
       "              dt  timezone         id            name  cod  coord.lon  \\\n",
       "0   1.620917e+09   -7200.0  3418910.0       Upernavik  200   -56.1549   \n",
       "0   1.620917e+09   36000.0  2163355.0          Hobart  200   147.3294   \n",
       "0   1.620917e+09  -21600.0  6170031.0     Tuktoyaktuk  200  -133.0374   \n",
       "0   1.620917e+09  -21600.0  6185377.0     Yellowknife  200  -114.3525   \n",
       "0   1.620917e+09   25200.0  1562798.0            Vinh  200   105.6667   \n",
       "..           ...       ...        ...             ...  ...        ...   \n",
       "0   1.620917e+09       0.0  2374583.0         Bubaque  200   -15.8333   \n",
       "0   1.620917e+09  -18000.0  5062458.0      West Fargo  200   -96.9004   \n",
       "0   1.620917e+09       0.0  2301464.0  Duayaw-Nkwanta  200    -2.1028   \n",
       "0   1.620917e+09   28800.0  2063042.0    Port Hedland  200   118.5667   \n",
       "0   1.620917e+09  -10800.0  3399506.0        Floriano  200   -43.0225   \n",
       "\n",
       "    coord.lat  ...  wind.gust  clouds.all  sys.country   sys.sunrise  \\\n",
       "0     72.7868  ...       5.30       100.0           GL  0.000000e+00   \n",
       "0    -42.8794  ...       5.99        13.0           AU  1.620940e+09   \n",
       "0     69.4541  ...        NaN        20.0           CA  1.620901e+09   \n",
       "0     62.4560  ...       8.99        75.0           CA  1.620903e+09   \n",
       "0     18.6667  ...       7.99        88.0           VN  1.620858e+09   \n",
       "..        ...  ...        ...         ...          ...           ...   \n",
       "0     11.2833  ...       6.93        78.0           GW  1.620888e+09   \n",
       "0     46.8750  ...      10.00         1.0           US  1.620903e+09   \n",
       "0      7.1724  ...       2.86       100.0           GH  1.620885e+09   \n",
       "0    -20.3167  ...        NaN         5.0           AU  1.620858e+09   \n",
       "0     -6.7669  ...      10.56        43.0           BR  1.620896e+09   \n",
       "\n",
       "      sys.sunset  sys.type     sys.id  message  rain.1h  snow.1h  \n",
       "0   0.000000e+00       NaN        NaN      NaN      NaN      NaN  \n",
       "0   1.620976e+09       2.0  2002195.0      NaN      NaN      NaN  \n",
       "0   1.620977e+09       1.0      942.0      NaN      NaN      NaN  \n",
       "0   1.620966e+09       2.0    19346.0      NaN      NaN      NaN  \n",
       "0   1.620905e+09       NaN        NaN      NaN      NaN      NaN  \n",
       "..           ...       ...        ...      ...      ...      ...  \n",
       "0   1.620934e+09       NaN        NaN      NaN      NaN      NaN  \n",
       "0   1.620957e+09       2.0  2011828.0      NaN      NaN      NaN  \n",
       "0   1.620930e+09       NaN        NaN      NaN      NaN      NaN  \n",
       "0   1.620899e+09       1.0     9585.0      NaN      NaN      NaN  \n",
       "0   1.620939e+09       NaN        NaN      NaN      NaN      NaN  \n",
       "\n",
       "[573 rows x 30 columns]"
      ]
     },
     "execution_count": 46,
     "metadata": {},
     "output_type": "execute_result"
    }
   ],
   "source": [
    "df = pd.concat(df_list)\n",
    "df = df[df['dt'].notna()]\n",
    "\n",
    "df"
   ]
  },
  {
   "cell_type": "code",
   "execution_count": 47,
   "metadata": {},
   "outputs": [
    {
     "name": "stdout",
     "output_type": "stream",
     "text": [
      "Index(['weather', 'base', 'visibility', 'dt', 'timezone', 'id', 'name', 'cod',\n",
      "       'coord.lon', 'coord.lat', 'main.temp', 'main.feels_like',\n",
      "       'main.temp_min', 'main.temp_max', 'main.pressure', 'main.humidity',\n",
      "       'main.sea_level', 'main.grnd_level', 'wind.speed', 'wind.deg',\n",
      "       'wind.gust', 'clouds.all', 'sys.country', 'sys.sunrise', 'sys.sunset',\n",
      "       'sys.type', 'sys.id', 'message', 'rain.1h', 'snow.1h'],\n",
      "      dtype='object')\n"
     ]
    }
   ],
   "source": [
    "print(df.columns)\n",
    "df.to_csv('weather.csv')"
   ]
  },
  {
   "cell_type": "code",
   "execution_count": 14,
   "metadata": {},
   "outputs": [
    {
     "data": {
      "text/plain": [
       "571"
      ]
     },
     "execution_count": 14,
     "metadata": {},
     "output_type": "execute_result"
    }
   ],
   "source": [
    "#It's a match\n",
    "#print(len(plot_temps))\n",
    "#len(plot_lats)\n",
    "df['name'].nunique()"
   ]
  },
  {
   "cell_type": "code",
   "execution_count": 15,
   "metadata": {},
   "outputs": [],
   "source": [
    "plot_lats = df['coord.lat'].tolist()\n",
    "plot_temps = df['main.temp'].tolist()"
   ]
  },
  {
   "cell_type": "code",
   "execution_count": 16,
   "metadata": {},
   "outputs": [],
   "source": [
    "north_df = df.loc[df[\"coord.lat\"] > 0, :]\n",
    "south_df = df.loc[df[\"coord.lat\"] < 0, :]"
   ]
  },
  {
   "cell_type": "code",
   "execution_count": 28,
   "metadata": {},
   "outputs": [],
   "source": [
    "#just to prove they imported\n",
    "#print(plot_temps)\n",
    "#print(plot_lats)\n",
    "nlats = north_df['coord.lat']\n",
    "ntemps = north_df['main.temp']\n",
    "\n",
    "slats = south_df['coord.lat']\n",
    "stemps = south_df['main.temp']\n",
    "\n",
    "temps = [(nlats, ntemps, 30), (slats,stemps, -50)]"
   ]
  },
  {
   "cell_type": "code",
   "execution_count": 29,
   "metadata": {},
   "outputs": [
    {
     "data": {
      "image/png": "[encoded data removed]",
      "text/plain": [
       "<Figure size 432x288 with 1 Axes>"
      ]
     },
     "metadata": {
      "needs_background": "light"
     },
     "output_type": "display_data"
    },
    {
     "data": {
      "text/plain": [
       "<Figure size 432x288 with 0 Axes>"
      ]
     },
     "metadata": {},
     "output_type": "display_data"
    }
   ],
   "source": [
    "plt.scatter(plot_lats, plot_temps)\n",
    "#(nslope, nintercept, nrvalue, npvalue, nstderr) = linregress(nlats, ntemps)\n",
    "#nregress_values = nlats * nslope + nintercept\n",
    "#line_eq = \"y = \" + str(round(nslope,2)) + \"x + \" + str(round(nintercept,2))\n",
    "#plt.annotate(line_eq,(0,90),fontsize=15,color=\"red\")\n",
    "#plt.plot(nlats,nregress_values,\"r-\")\n",
    "for n in temps:\n",
    "    (nslope, nintercept, nrvalue, npvalue, nstderr) = linregress(n[0], n[1])\n",
    "    nregress_values = n[0] * nslope + nintercept\n",
    "    line_eq = \"y = \" + str(round(nslope,2)) + \"x + \" + str(round(nintercept,2))\n",
    "    plt.annotate(line_eq,(n[2],90),fontsize=15,color=\"red\")\n",
    "    plt.plot(n[0],nregress_values,\"r-\")\n",
    "\n",
    "\n",
    "plt.xlabel('Latitude')\n",
    "plt.ylabel('Temperature (Fahrenheit)')\n",
    "plt.show()\n",
    "#This scatter plot shows the temperature based on how north and south the cities are\n",
    "#As you get closer to the equator the temperature is more likely to be higher\n",
    "plt.savefig('temp.png')"
   ]
  },
  {
   "cell_type": "code",
   "execution_count": 31,
   "metadata": {},
   "outputs": [],
   "source": [
    "nlats = north_df['coord.lat']\n",
    "ntemps = north_df['main.humidity']\n",
    "\n",
    "slats = south_df['coord.lat']\n",
    "stemps = south_df['main.humidity']\n",
    "\n",
    "temps = [(nlats, ntemps, 30), (slats,stemps, -50)]"
   ]
  },
  {
   "cell_type": "code",
   "execution_count": 32,
   "metadata": {},
   "outputs": [
    {
     "data": {
      "image/png": "[encoded data removed]",
      "text/plain": [
       "<Figure size 432x288 with 1 Axes>"
      ]
     },
     "metadata": {
      "needs_background": "light"
     },
     "output_type": "display_data"
    },
    {
     "data": {
      "text/plain": [
       "<Figure size 432x288 with 0 Axes>"
      ]
     },
     "metadata": {},
     "output_type": "display_data"
    }
   ],
   "source": [
    "plot_hum = df['main.humidity'].tolist()\n",
    "plt.scatter(plot_lats, plot_hum)\n",
    "for n in temps:\n",
    "    (nslope, nintercept, nrvalue, npvalue, nstderr) = linregress(n[0], n[1])\n",
    "    nregress_values = n[0] * nslope + nintercept\n",
    "    line_eq = \"y = \" + str(round(nslope,2)) + \"x + \" + str(round(nintercept,2))\n",
    "    plt.annotate(line_eq,(n[2],90),fontsize=15,color=\"red\")\n",
    "    plt.plot(n[0],nregress_values,\"r-\")\n",
    "plt.xlabel('Latitude')\n",
    "plt.ylabel('Humidity (%)')\n",
    "plt.show()\n",
    "#Similar to the first plot only with humidity instead of temperature\n",
    "#Latitude has very little impact on humidity as both lines almost match up\n",
    "plt.savefig('humidity.png')"
   ]
  },
  {
   "cell_type": "code",
   "execution_count": 21,
   "metadata": {},
   "outputs": [],
   "source": [
    "nlats = north_df['coord.lat']\n",
    "ntemps = north_df['clouds.all']\n",
    "\n",
    "slats = south_df['coord.lat']\n",
    "stemps = south_df['clouds.all']\n",
    "\n",
    "temps = [(nlats, ntemps, 30), (slats,stemps, -50)]"
   ]
  },
  {
   "cell_type": "code",
   "execution_count": 26,
   "metadata": {},
   "outputs": [
    {
     "data": {
      "image/png": "[encoded data removed]",
      "text/plain": [
       "<Figure size 432x288 with 1 Axes>"
      ]
     },
     "metadata": {
      "needs_background": "light"
     },
     "output_type": "display_data"
    },
    {
     "data": {
      "text/plain": [
       "<Figure size 432x288 with 0 Axes>"
      ]
     },
     "metadata": {},
     "output_type": "display_data"
    }
   ],
   "source": [
    "plot_cloud = df['clouds.all'].tolist()\n",
    "plt.scatter(plot_lats, plot_cloud)\n",
    "for n in temps:\n",
    "    (nslope, nintercept, nrvalue, npvalue, nstderr) = linregress(n[0], n[1])\n",
    "    nregress_values = n[0] * nslope + nintercept\n",
    "    line_eq = \"y = \" + str(round(nslope,2)) + \"x + \" + str(round(nintercept,2))\n",
    "    plt.annotate(line_eq,(n[2],90),fontsize=15,color=\"red\")\n",
    "    plt.plot(n[0],nregress_values,\"r-\")\n",
    "plt.xlabel('Latitude')\n",
    "plt.ylabel('Cloudiness (%)')\n",
    "plt.show()\n",
    "#cloud cover for each city based on their latitude\n",
    "#There is a greater variation wind speed south of the equator than north\n",
    "plt.savefig('cloudiness.png')"
   ]
  },
  {
   "cell_type": "code",
   "execution_count": 23,
   "metadata": {},
   "outputs": [],
   "source": [
    "nlats = north_df['coord.lat']\n",
    "ntemps = north_df['wind.speed']\n",
    "\n",
    "slats = south_df['coord.lat']\n",
    "stemps = south_df['wind.speed']\n",
    "\n",
    "temps = [(nlats, ntemps, 30), (slats,stemps, -50)]"
   ]
  },
  {
   "cell_type": "code",
   "execution_count": 25,
   "metadata": {},
   "outputs": [
    {
     "data": {
      "image/png": "[encoded data removed]",
      "text/plain": [
       "<Figure size 432x288 with 1 Axes>"
      ]
     },
     "metadata": {
      "needs_background": "light"
     },
     "output_type": "display_data"
    },
    {
     "data": {
      "text/plain": [
       "<Figure size 432x288 with 0 Axes>"
      ]
     },
     "metadata": {},
     "output_type": "display_data"
    }
   ],
   "source": [
    "plot_wind = df['wind.speed'].tolist()\n",
    "plt.scatter(plot_lats, plot_wind)\n",
    "for n in temps:\n",
    "    (nslope, nintercept, nrvalue, npvalue, nstderr) = linregress(n[0], n[1])\n",
    "    nregress_values = n[0] * nslope + nintercept\n",
    "    line_eq = \"y = \" + str(round(nslope,2)) + \"x + \" + str(round(nintercept,2))\n",
    "    plt.annotate(line_eq,(n[2],90),fontsize=15,color=\"red\")\n",
    "    plt.plot(n[0],nregress_values,\"r-\")\n",
    "plt.xlabel('Latitude')\n",
    "plt.ylabel('Wind Speed (mph)')\n",
    "plt.show()\n",
    "#wind speed based on latitude\n",
    "#Latitude seems to have little effect on windiness as both lines almost make one lime\n",
    "plt.savefig('windiness.png')"
   ]
  },
  {
   "cell_type": "code",
   "execution_count": null,
   "metadata": {},
   "outputs": [],
   "source": [
    "#Testing code for above\n",
    "#north_df = df.loc[df[\"coord.lat\"] > 0, :]\n",
    "#south_df = df.loc[df[\"coord.lat\"] < 0, :]\n",
    "#(slope, intercept, rvalue, pvalue, stderr) = linregress(x_values, y_values)\n",
    "#regress_values = x_values * slope + intercept\n",
    "#line_eq = \"y = \" + str(round(slope,2)) + \"x + \" + str(round(intercept,2))\n",
    "#plt.plot(x_values,regress_values,\"r-\")\n",
    "#plt.annotate(line_eq,(6,10),fontsize=15,color=\"red\")"
   ]
  },
  {
   "cell_type": "code",
   "execution_count": null,
   "metadata": {},
   "outputs": [],
   "source": []
  }
 ],
 "metadata": {
  "kernelspec": {
   "display_name": "Python 3",
   "language": "python",
   "name": "python3"
  },
  "language_info": {
   "codemirror_mode": {
    "name": "ipython",
    "version": 3
   },
   "file_extension": ".py",
   "mimetype": "text/x-python",
   "name": "python",
   "nbconvert_exporter": "python",
   "pygments_lexer": "ipython3",
   "version": "3.8.5"
  }
 },
 "nbformat": 4,
 "nbformat_minor": 4
}
